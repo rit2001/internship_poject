{
 "cells": [
  {
   "cell_type": "code",
   "execution_count": 4,
   "id": "49c7b5d1",
   "metadata": {},
   "outputs": [],
   "source": [
    "import numpy as np"
   ]
  },
  {
   "cell_type": "code",
   "execution_count": 6,
   "id": "f18c650b",
   "metadata": {},
   "outputs": [
    {
     "name": "stdout",
     "output_type": "stream",
     "text": [
      "Enter the size of the array:1\n",
      "Enter the number one by one:2\n"
     ]
    }
   ],
   "source": [
    "a=[]\n",
    "n=int(input(\"Enter the size of the array:\"))\n",
    "for i in range (n):\n",
    "    val=int(input(\"Enter the number one by one:\"))\n",
    "    a.append(val)\n",
    "    myarray=np.array(a)\n",
    "    myarray\n"
   ]
  },
  {
   "cell_type": "code",
   "execution_count": 7,
   "id": "e58657a8",
   "metadata": {},
   "outputs": [
    {
     "name": "stdout",
     "output_type": "stream",
     "text": [
      "Dimension of the array is= 2\n"
     ]
    }
   ],
   "source": [
    "a=[[1,2,3],[3,4,5],[6,7,8]]\n",
    "arr=np.array(a)\n",
    "print(\"Dimension of the array is=\",arr.ndim)"
   ]
  },
  {
   "cell_type": "code",
   "execution_count": 8,
   "id": "d30c0158",
   "metadata": {},
   "outputs": [
    {
     "name": "stdout",
     "output_type": "stream",
     "text": [
      "Shape of the array is= (3, 3)\n"
     ]
    }
   ],
   "source": [
    "a=[[1,2,3],[3,4,5],[6,7,8]]\n",
    "arr=np.array(a)\n",
    "print(\"Shape of the array is=\",arr.shape)"
   ]
  },
  {
   "cell_type": "code",
   "execution_count": 21,
   "id": "aff429d2",
   "metadata": {},
   "outputs": [
    {
     "data": {
      "text/plain": [
       "array([[0.91688837, 0.48500369, 0.53986661],\n",
       "       [0.59106253, 0.90184291, 0.12278085]])"
      ]
     },
     "execution_count": 21,
     "metadata": {},
     "output_type": "execute_result"
    }
   ],
   "source": [
    "import numpy as np\n",
    "arr=np.random.rand(2,3)\n",
    "\n",
    "arr"
   ]
  },
  {
   "cell_type": "code",
   "execution_count": 25,
   "id": "741781ee",
   "metadata": {},
   "outputs": [
    {
     "name": "stdout",
     "output_type": "stream",
     "text": [
      "Enter the size of the array?5\n",
      "Enter the number one by one:1\n",
      "Enter the number one by one:2\n",
      "Enter the number one by one:3\n",
      "Enter the number one by one:4\n",
      "Enter the number one by one:5\n",
      "1\n",
      "2\n",
      "3\n",
      "4\n",
      "5\n",
      "sum of array elements= 15\n",
      "[2 3 4 5]\n"
     ]
    }
   ],
   "source": [
    "import numpy as np\n",
    "a=[]\n",
    "n=int(input(\"Enter the size of the array?\"))\n",
    "for i in range(n):\n",
    "    val=int(input(\"Enter the number one by one:\"))\n",
    "    a.append(val)\n",
    "arr=np.array(a)\n",
    "for i in range(arr.size):\n",
    "    print(arr[i])\n",
    "    sum=0\n",
    "for i in range(arr.size):\n",
    "    sum=sum+arr[i]\n",
    "print(\"sum of array elements=\",sum)\n",
    "arr1=arr[-4:]\n",
    "print(arr1)\n",
    "    \n",
    "           "
   ]
  },
  {
   "cell_type": "code",
   "execution_count": 32,
   "id": "9adf9fd5",
   "metadata": {},
   "outputs": [
    {
     "name": "stdout",
     "output_type": "stream",
     "text": [
      "[[55 91]\n",
      " [88 89]\n",
      " [12 95]\n",
      " [94 54]\n",
      " [85 88]\n",
      " [19 41]]\n",
      "No of Dimension= (6, 2)\n"
     ]
    }
   ],
   "source": [
    "import numpy as np\n",
    "arr=np.random.randint(1,100,12)\n",
    "arr=arr.reshape(6,2)\n",
    "print(arr)\n",
    "print(\"No of Dimension=\",arr.shape)"
   ]
  },
  {
   "cell_type": "code",
   "execution_count": 41,
   "id": "38c7acda",
   "metadata": {},
   "outputs": [
    {
     "data": {
      "text/plain": [
       "12"
      ]
     },
     "execution_count": 41,
     "metadata": {},
     "output_type": "execute_result"
    }
   ],
   "source": [
    "import numpy as np\n",
    "np.random.seed(12)\n",
    "arr=np.random.randint(1,100,12)\n",
    "arr.size"
   ]
  },
  {
   "cell_type": "code",
   "execution_count": 50,
   "id": "237e4b62",
   "metadata": {},
   "outputs": [
    {
     "name": "stdout",
     "output_type": "stream",
     "text": [
      "Enter the no of rows:3\n",
      "Enter the no of columns:3\n",
      "Enter the numbers one by one:1\n",
      "Enter the numbers one by one:2\n",
      "Enter the numbers one by one:3\n",
      "Enter the numbers one by one:4\n",
      "Enter the numbers one by one:5\n",
      "Enter the numbers one by one:6\n",
      "Enter the numbers one by one:7\n",
      "Enter the numbers one by one:8\n",
      "Enter the numbers one by one:9\n",
      "123\n",
      "456\n",
      "789\n",
      "<class 'numpy.ndarray'>\n"
     ]
    }
   ],
   "source": [
    "import numpy as np\n",
    "matrix=[]\n",
    "row=int(input(\"Enter the no of rows:\"))\n",
    "col=int(input(\"Enter the no of columns:\"))\n",
    "for i in range(row):\n",
    "  a=[]\n",
    "  for j in range(col):\n",
    "        val=int(input(\"Enter the numbers one by one:\"))\n",
    "        a.append(val)\n",
    "  matrix.append(a)\n",
    "arr=np.array(matrix)\n",
    "for i in range (row):\n",
    "    for j in range (col):\n",
    "        print(arr[i,j],end=\"\")\n",
    "    print()\n",
    "print(type(arr))"
   ]
  },
  {
   "cell_type": "code",
   "execution_count": 12,
   "id": "f5380b9d",
   "metadata": {},
   "outputs": [
    {
     "data": {
      "text/plain": [
       "array([[9824, 2114, 5813, 8532, 3584, 2815,  949, 6199],\n",
       "       [7226, 1100, 9945, 8679, 4392, 4886, 2346, 9016],\n",
       "       [9524, 4107, 7556, 3397, 7763, 7951, 7256, 5087],\n",
       "       [6687, 2309, 4014, 4733,  205,  529, 5000, 8768],\n",
       "       [1315,  382, 2050,  229, 5576,   14, 9231, 6657],\n",
       "       [4002, 5002, 7685, 7380, 6563, 9800, 4235, 6206],\n",
       "       [3757, 8811, 2535,  131, 8771, 2564, 2019, 3636],\n",
       "       [1932, 1175, 2129, 1810, 9167, 5495,  833, 2852],\n",
       "       [6183, 3640, 1461, 9513, 2415, 6536, 8980, 3969],\n",
       "       [6780, 4757, 7037,  484, 6051, 8172, 2580, 7884]])"
      ]
     },
     "execution_count": 12,
     "metadata": {},
     "output_type": "execute_result"
    }
   ],
   "source": [
    "import numpy as np\n",
    "np.random.seed(121)\n",
    "arr=np.random.randint(1,10000,100).reshape(10,10)\n",
    "arr\n",
    "arr[0:,2:]"
   ]
  },
  {
   "cell_type": "raw",
   "id": "a067a5bc",
   "metadata": {},
   "source": [
    "arr[2:,2:]\n"
   ]
  },
  {
   "cell_type": "code",
   "execution_count": 16,
   "id": "fad1aa02",
   "metadata": {},
   "outputs": [
    {
     "data": {
      "text/plain": [
       "array([  56,   89,   45,   34,   27,   78,   98, 2312,   89,   49])"
      ]
     },
     "execution_count": 16,
     "metadata": {},
     "output_type": "execute_result"
    }
   ],
   "source": [
    "import numpy as np\n",
    "a=np.array([56,89,45,34,27,78,98,2312,89,49])\n",
    "b=a[2:7].copy()\n",
    "b[:]=0\n",
    "a"
   ]
  },
  {
   "cell_type": "code",
   "execution_count": 25,
   "id": "04090f44",
   "metadata": {},
   "outputs": [
    {
     "data": {
      "text/plain": [
       "array([ 1,  2,  3,  4,  5,  6,  7,  8,  9,  0, 11, 12, 13, 14, 15, 16, 17,\n",
       "       18, 19])"
      ]
     },
     "execution_count": 25,
     "metadata": {},
     "output_type": "execute_result"
    }
   ],
   "source": [
    "import numpy as np\n",
    "a=np.arange(1,20)\n",
    "a[a%10==0]=0\n",
    "a"
   ]
  },
  {
   "cell_type": "code",
   "execution_count": 31,
   "id": "673b087c",
   "metadata": {},
   "outputs": [
    {
     "data": {
      "text/plain": [
       "array([1, 2, 3, 4, 5, 6, 7, 8, 9])"
      ]
     },
     "execution_count": 31,
     "metadata": {},
     "output_type": "execute_result"
    }
   ],
   "source": [
    "import numpy as np\n",
    "arr1=np.arange(1,10)\n",
    "arr2=np.arange(11,20)\n"
   ]
  },
  {
   "cell_type": "code",
   "execution_count": 32,
   "id": "f0fb4232",
   "metadata": {},
   "outputs": [
    {
     "data": {
      "text/plain": [
       "array([1, 2, 3, 4, 5, 6, 7, 8, 9])"
      ]
     },
     "execution_count": 32,
     "metadata": {},
     "output_type": "execute_result"
    }
   ],
   "source": [
    "arr1"
   ]
  },
  {
   "cell_type": "code",
   "execution_count": 33,
   "id": "71714074",
   "metadata": {},
   "outputs": [
    {
     "data": {
      "text/plain": [
       "array([11, 12, 13, 14, 15, 16, 17, 18, 19])"
      ]
     },
     "execution_count": 33,
     "metadata": {},
     "output_type": "execute_result"
    }
   ],
   "source": [
    "arr2"
   ]
  },
  {
   "cell_type": "code",
   "execution_count": 34,
   "id": "f682fd74",
   "metadata": {},
   "outputs": [
    {
     "data": {
      "text/plain": [
       "array([12, 14, 16, 18, 20, 22, 24, 26, 28])"
      ]
     },
     "execution_count": 34,
     "metadata": {},
     "output_type": "execute_result"
    }
   ],
   "source": [
    "arr1+arr2"
   ]
  },
  {
   "cell_type": "code",
   "execution_count": 35,
   "id": "b3f9ca28",
   "metadata": {},
   "outputs": [
    {
     "data": {
      "text/plain": [
       "array([ 11,  24,  39,  56,  75,  96, 119, 144, 171])"
      ]
     },
     "execution_count": 35,
     "metadata": {},
     "output_type": "execute_result"
    }
   ],
   "source": [
    "arr1*arr2"
   ]
  },
  {
   "cell_type": "code",
   "execution_count": null,
   "id": "00c9714c",
   "metadata": {},
   "outputs": [],
   "source": [
    "import numpy as np\n",
    "a=np.array([1,2,3,4]).reshape(2,2)\n",
    "b=np.array([5,6,7,8]).reshape(2,2)"
   ]
  },
  {
   "cell_type": "code",
   "execution_count": 44,
   "id": "13e84a48",
   "metadata": {},
   "outputs": [
    {
     "data": {
      "text/plain": [
       "array([ 1,  2,  3,  4,  5,  6,  7,  8,  9,  0, 11, 12, 13, 14, 15, 16, 17,\n",
       "       18, 19])"
      ]
     },
     "execution_count": 44,
     "metadata": {},
     "output_type": "execute_result"
    }
   ],
   "source": [
    "a"
   ]
  },
  {
   "cell_type": "code",
   "execution_count": 45,
   "id": "868abe94",
   "metadata": {},
   "outputs": [
    {
     "data": {
      "text/plain": [
       "array([0, 0, 0, 0, 0])"
      ]
     },
     "execution_count": 45,
     "metadata": {},
     "output_type": "execute_result"
    }
   ],
   "source": [
    "b"
   ]
  },
  {
   "cell_type": "code",
   "execution_count": null,
   "id": "8268418c",
   "metadata": {},
   "outputs": [],
   "source": [
    "import numpy as np\n"
   ]
  },
  {
   "cell_type": "code",
   "execution_count": null,
   "id": "f480c293",
   "metadata": {},
   "outputs": [],
   "source": [
    "a=np.array([1,2,3,4]).reshape(2,2)\n",
    "b=np.array([5,6,7,8]).reshape(2,2)"
   ]
  },
  {
   "cell_type": "code",
   "execution_count": 47,
   "id": "524e1f37",
   "metadata": {},
   "outputs": [
    {
     "data": {
      "text/plain": [
       "array([ 1,  2,  3,  4,  5,  6,  7,  8,  9,  0, 11, 12, 13, 14, 15, 16, 17,\n",
       "       18, 19])"
      ]
     },
     "execution_count": 47,
     "metadata": {},
     "output_type": "execute_result"
    }
   ],
   "source": [
    "a"
   ]
  },
  {
   "cell_type": "code",
   "execution_count": 56,
   "id": "271f2cfb",
   "metadata": {},
   "outputs": [
    {
     "data": {
      "text/plain": [
       "array([-0.83907153,  0.40808206,  0.15425145, -0.66693806,  0.96496603,\n",
       "       -0.95241298])"
      ]
     },
     "execution_count": 56,
     "metadata": {},
     "output_type": "execute_result"
    }
   ],
   "source": [
    "import numpy as np\n",
    "arr=np.array([10,20,30,40,50,60])\n",
    "np.cos(arr)"
   ]
  },
  {
   "cell_type": "code",
   "execution_count": 61,
   "id": "1c5f6d34",
   "metadata": {},
   "outputs": [
    {
     "data": {
      "text/plain": [
       "array([ 1.  ,  3.25,  5.5 ,  7.75, 10.  ])"
      ]
     },
     "execution_count": 61,
     "metadata": {},
     "output_type": "execute_result"
    }
   ],
   "source": [
    "import numpy as np\n",
    "np.linspace(1,10,5)"
   ]
  },
  {
   "cell_type": "code",
   "execution_count": 65,
   "id": "f390ec90",
   "metadata": {},
   "outputs": [
    {
     "data": {
      "text/plain": [
       "array([[16, 11, 13],\n",
       "       [17, 13, 16],\n",
       "       [ 3, 16, 11]])"
      ]
     },
     "execution_count": 65,
     "metadata": {},
     "output_type": "execute_result"
    }
   ],
   "source": [
    "import numpy as np\n",
    "np.random.seed(122)\n",
    "matrix=np.random.randint(1,21,9).reshape(3,3)\n",
    "matrix"
   ]
  },
  {
   "cell_type": "code",
   "execution_count": 75,
   "id": "c4e6bb3d",
   "metadata": {},
   "outputs": [
    {
     "data": {
      "text/plain": [
       "array([ 16,  27,  40,  57,  70,  86,  89, 105, 116])"
      ]
     },
     "execution_count": 75,
     "metadata": {},
     "output_type": "execute_result"
    }
   ],
   "source": [
    "np.cumsum(matrix)"
   ]
  },
  {
   "cell_type": "code",
   "execution_count": 80,
   "id": "be8ccda5",
   "metadata": {},
   "outputs": [
    {
     "data": {
      "text/plain": [
       "array([13, 16,  3, 11, 13, 17, 11, 16, 16])"
      ]
     },
     "execution_count": 80,
     "metadata": {},
     "output_type": "execute_result"
    }
   ],
   "source": [
    "import numpy as np\n",
    "np.random.seed(122)\n",
    "matrix=np.random.randint(1,21,9)\n",
    "np.random.shuffle(matrix)\n",
    "matrix"
   ]
  },
  {
   "cell_type": "code",
   "execution_count": 87,
   "id": "a74cf52a",
   "metadata": {},
   "outputs": [
    {
     "data": {
      "text/plain": [
       "(array([10, 20, 30, 40, 50, 60, 70, 80]),\n",
       " array([ 0,  1,  2,  3,  4,  5, 10, 11]),\n",
       " array([2, 2, 2, 1, 2, 1, 1, 1]))"
      ]
     },
     "execution_count": 87,
     "metadata": {},
     "output_type": "execute_result"
    }
   ],
   "source": [
    "import numpy as np\n",
    "arr=np.array([10,20,30,40,50,60,10,30,50,20,70,80])\n",
    "np.unique(arr,return_index=True,return_counts=True)\n"
   ]
  },
  {
   "cell_type": "code",
   "execution_count": 91,
   "id": "0d426818",
   "metadata": {},
   "outputs": [
    {
     "data": {
      "text/plain": [
       "array([[1, 2, 3, 4],\n",
       "       [5, 6, 7, 8]])"
      ]
     },
     "execution_count": 91,
     "metadata": {},
     "output_type": "execute_result"
    }
   ],
   "source": [
    "import numpy as np\n",
    "a=np.array([1,2,3,4])\n",
    "b=np.array([5,6,7,8])\n",
    "np.vstack((a,b))"
   ]
  },
  {
   "cell_type": "code",
   "execution_count": 98,
   "id": "08ac7eb8",
   "metadata": {},
   "outputs": [
    {
     "data": {
      "text/plain": [
       "array([[16, 11, 13],\n",
       "       [17, 13, 16],\n",
       "       [ 3, 16, 11],\n",
       "       [59, 56, 64],\n",
       "       [53, 54, 69],\n",
       "       [69, 63, 50]])"
      ]
     },
     "execution_count": 98,
     "metadata": {},
     "output_type": "execute_result"
    }
   ],
   "source": [
    "import numpy as np\n",
    "np.random.seed(122)\n",
    "arr1=np.random.randint(1,21,9).reshape(3,3)\n",
    "arr2=np.random.randint(50,71,9).reshape(3,3)\n",
    "np.vstack((arr1,arr2))"
   ]
  },
  {
   "cell_type": "code",
   "execution_count": 96,
   "id": "e55685c0",
   "metadata": {},
   "outputs": [
    {
     "data": {
      "text/plain": [
       "array([[16, 11, 13],\n",
       "       [17, 13, 16],\n",
       "       [ 3, 16, 11]])"
      ]
     },
     "execution_count": 96,
     "metadata": {},
     "output_type": "execute_result"
    }
   ],
   "source": [
    "arr1"
   ]
  },
  {
   "cell_type": "code",
   "execution_count": 97,
   "id": "55e8c98d",
   "metadata": {},
   "outputs": [
    {
     "data": {
      "text/plain": [
       "array([[59, 56, 64],\n",
       "       [53, 54, 69],\n",
       "       [69, 63, 50]])"
      ]
     },
     "execution_count": 97,
     "metadata": {},
     "output_type": "execute_result"
    }
   ],
   "source": [
    "arr2"
   ]
  },
  {
   "cell_type": "code",
   "execution_count": 102,
   "id": "a03a0f1e",
   "metadata": {},
   "outputs": [
    {
     "data": {
      "text/plain": [
       "array([[[7, 7, 7, 7, 7, 7, 7, 7, 7, 7, 7, 7, 7, 7, 7, 7, 7, 7, 7, 7, 7,\n",
       "         7, 7, 7, 7, 7, 7, 7, 7, 7, 7, 7, 7, 7, 7, 7, 7, 7, 7, 7, 7, 7,\n",
       "         7, 7, 7, 7, 7, 7, 7, 7, 7, 7, 7, 7, 7, 7, 7, 7, 7, 7, 7, 7, 7,\n",
       "         7, 7, 7, 7, 7, 7, 7, 7, 7, 7, 7, 7, 7, 7, 7, 7, 7, 7, 7, 7, 7,\n",
       "         7, 7, 7, 7, 7, 7, 7, 7, 7, 7, 7, 7, 7, 7, 7, 7]]])"
      ]
     },
     "execution_count": 102,
     "metadata": {},
     "output_type": "execute_result"
    }
   ],
   "source": [
    "import numpy as np\n",
    "arr=np.full((1,1,100),7)\n",
    "arr"
   ]
  },
  {
   "cell_type": "code",
   "execution_count": 104,
   "id": "7cd82ce5",
   "metadata": {},
   "outputs": [
    {
     "name": "stdout",
     "output_type": "stream",
     "text": [
      "1.01 µs ± 4.67 ns per loop (mean ± std. dev. of 7 runs, 1000000 loops each)\n"
     ]
    }
   ],
   "source": [
    "%%timeit\n",
    "a=[]\n",
    "for i in range(1,16):\n",
    "    a.append(i*10)"
   ]
  },
  {
   "cell_type": "code",
   "execution_count": 106,
   "id": "a9769808",
   "metadata": {},
   "outputs": [
    {
     "name": "stdout",
     "output_type": "stream",
     "text": [
      "2.57 µs ± 15.7 ns per loop (mean ± std. dev. of 7 runs, 100000 loops each)\n"
     ]
    }
   ],
   "source": [
    "%timeit [i**2 for i in range (1,11)]"
   ]
  },
  {
   "cell_type": "code",
   "execution_count": 108,
   "id": "7b9ce347",
   "metadata": {},
   "outputs": [
    {
     "name": "stdout",
     "output_type": "stream",
     "text": [
      "986 ns ± 10.1 ns per loop (mean ± std. dev. of 7 runs, 1000000 loops each)\n"
     ]
    }
   ],
   "source": [
    "import numpy as np\n",
    "%timeit np.arange(1,11)**2"
   ]
  },
  {
   "cell_type": "code",
   "execution_count": 110,
   "id": "cf087e97",
   "metadata": {},
   "outputs": [
    {
     "name": "stdout",
     "output_type": "stream",
     "text": [
      "4\n"
     ]
    }
   ],
   "source": [
    "import numpy as np\n",
    "arr=np.array([17,29,44,74,12,67,34,56,78,989])\n",
    "pos=np.searchsorted(a,56,side='right')\n",
    "print(pos)\n"
   ]
  },
  {
   "cell_type": "code",
   "execution_count": 113,
   "id": "360710e0",
   "metadata": {},
   "outputs": [
    {
     "name": "stdout",
     "output_type": "stream",
     "text": [
      "(array([ 7,  8,  9, 10]),)\n"
     ]
    }
   ],
   "source": [
    "import numpy as np\n",
    "arr=np.array([1,3,5,7,11,15,23,46,78,236,906])\n",
    "result=np.where(arr%2==0)\n",
    "print(result)"
   ]
  },
  {
   "cell_type": "code",
   "execution_count": 1,
   "id": "c41c40e7",
   "metadata": {},
   "outputs": [
    {
     "ename": "ModuleNotFoundError",
     "evalue": "No module named 'tensorflow'",
     "output_type": "error",
     "traceback": [
      "\u001b[0;31m---------------------------------------------------------------------------\u001b[0m",
      "\u001b[0;31mModuleNotFoundError\u001b[0m                       Traceback (most recent call last)",
      "\u001b[0;32m/var/folders/kf/szd93rkj43x5h4j092dvw6n80000gn/T/ipykernel_5293/2091127585.py\u001b[0m in \u001b[0;36m<module>\u001b[0;34m\u001b[0m\n\u001b[0;32m----> 1\u001b[0;31m \u001b[0;32mimport\u001b[0m \u001b[0mtensorflow\u001b[0m \u001b[0;32mas\u001b[0m \u001b[0mtf\u001b[0m\u001b[0;34m\u001b[0m\u001b[0;34m\u001b[0m\u001b[0m\n\u001b[0m",
      "\u001b[0;31mModuleNotFoundError\u001b[0m: No module named 'tensorflow'"
     ]
    }
   ],
   "source": [
    "import tensorflow as tf\n"
   ]
  },
  {
   "cell_type": "code",
   "execution_count": 2,
   "id": "d3a10bc0",
   "metadata": {},
   "outputs": [],
   "source": [
    "import numpy as np"
   ]
  },
  {
   "cell_type": "code",
   "execution_count": null,
   "id": "2a0228a8",
   "metadata": {},
   "outputs": [],
   "source": []
  }
 ],
 "metadata": {
  "kernelspec": {
   "display_name": "Python 3 (ipykernel)",
   "language": "python",
   "name": "python3"
  },
  "language_info": {
   "codemirror_mode": {
    "name": "ipython",
    "version": 3
   },
   "file_extension": ".py",
   "mimetype": "text/x-python",
   "name": "python",
   "nbconvert_exporter": "python",
   "pygments_lexer": "ipython3",
   "version": "3.9.7"
  }
 },
 "nbformat": 4,
 "nbformat_minor": 5
}
